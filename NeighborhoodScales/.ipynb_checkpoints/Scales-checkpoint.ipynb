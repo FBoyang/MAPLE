{
 "cells": [
  {
   "cell_type": "code",
   "execution_count": 1,
   "metadata": {
    "collapsed": true
   },
   "outputs": [],
   "source": [
    "import itertools\n",
    "import json\n",
    "import matplotlib.pyplot as plt\n",
    "import numpy as np\n",
    "import pandas as pd\n",
    "from scipy.spatial.distance import cdist\n",
    "from sklearn.model_selection import train_test_split\n"
   ]
  },
  {
   "cell_type": "code",
   "execution_count": 2,
   "metadata": {},
   "outputs": [
    {
     "name": "stdout",
     "output_type": "stream",
     "text": [
      "autompgs   (392, 9)\n",
      "happiness   (578, 9)\n",
      "winequality-red   (1599, 13)\n",
      "housing   (506, 13)\n",
      "day   (731, 16)\n",
      "crimes   (2214, 104)\n",
      "music   (1059, 71)\n",
      "communities   (1993, 104)\n"
     ]
    }
   ],
   "source": [
    "datasets = ['autompgs', 'happiness', 'winequality-red', 'housing', 'day', 'crimes', 'music', 'communities']\n",
    "\n",
    "for dataset in datasets:\n",
    "    df = pd.read_csv('../Datasets/' + dataset + '.csv')\n",
    "    print(dataset, ' ', df.shape)"
   ]
  },
  {
   "cell_type": "code",
   "execution_count": 3,
   "metadata": {
    "collapsed": true
   },
   "outputs": [],
   "source": [
    "def load_normalize_data(source, thresh = .0000000001):\n",
    "    df_train = pd.read_csv(source, header = None).dropna()\n",
    "    \n",
    "    # Split train, test, valid - Change up train valid test every iteration\n",
    "    df_train, df_test = train_test_split(df_train, test_size = 0.5)\n",
    "    df_valid, df_test = train_test_split(df_test, test_size = 0.5)\n",
    "    \n",
    "    # delete features for which all entries are equal (or below a given threshold)\n",
    "    train_stddev = df_train[df_train.columns[:]].std()\n",
    "    drop_small = np.where(train_stddev < thresh)\n",
    "    if train_stddev[df_train.shape[1] - 1] < thresh:\n",
    "        print(\"ERROR: Near constant predicted value\")\n",
    "    df_train = df_train.drop(drop_small[0], axis = 1)\n",
    "    df_test = df_test.drop(drop_small[0], axis = 1)\n",
    "    df_valid = df_valid.drop(drop_small[0], axis = 1)\n",
    "    \n",
    "    # Calculate std dev and mean\n",
    "    train_stddev = df_train[df_train.columns[:]].std()\n",
    "    train_mean = df_train[df_train.columns[:]].mean()\n",
    "    \n",
    "    # Normalize to have mean 0 and variance 1\n",
    "    df_train1 = (df_train - train_mean) / train_stddev\n",
    "    df_valid1 = (df_valid - train_mean) / train_stddev\n",
    "    df_test1 = (df_test - train_mean) / train_stddev\n",
    "    \n",
    "    # Convert to np arrays\n",
    "    X_train = df_train1[df_train1.columns[:-1]].values\n",
    "    y_train = df_train1[df_train1.columns[-1]].values\n",
    "    \n",
    "    X_valid = df_valid1[df_valid1.columns[:-1]].values\n",
    "    y_valid = df_valid1[df_valid1.columns[-1]].values\n",
    "    \n",
    "    X_test = df_test1[df_test1.columns[:-1]].values\n",
    "    y_test = df_test1[df_test1.columns[-1]].values\n",
    "    \n",
    "    return X_train, y_train, X_valid, y_valid, X_test, y_test, np.array(train_mean), np.array(train_stddev)"
   ]
  },
  {
   "cell_type": "code",
   "execution_count": 4,
   "metadata": {},
   "outputs": [
    {
     "data": {
      "image/png": "[encoded data removed]",
      "text/plain": [
       "<matplotlib.figure.Figure at 0x7f96b0e234a8>"
      ]
     },
     "metadata": {},
     "output_type": "display_data"
    }
   ],
   "source": [
    "# Do we want to use some percentile range to eliminate possible outliers?\n",
    "data =[]\n",
    "for dataset in datasets:\n",
    "    X_train, y_train, X_valid, y_valid, X_test, y_test, train_mean, train_stddev = load_normalize_data('../Datasets/' + dataset + '.csv')\n",
    "    ranges = np.max(X_train, axis = 0) - np.min(X_train, axis = 0) \n",
    "    file = open('Scales/' + dataset + '_range.json', 'w')\n",
    "    json.dump(ranges.tolist(), file)\n",
    "    file.close()\n",
    "    data.append(ranges)\n",
    "\n",
    "plt.boxplot(data)\n",
    "plt.show()\n"
   ]
  },
  {
   "cell_type": "code",
   "execution_count": 5,
   "metadata": {},
   "outputs": [
    {
     "data": {
      "image/png": "[encoded data removed]",
      "text/plain": [
       "<matplotlib.figure.Figure at 0x7f96b0e1d4e0>"
      ]
     },
     "metadata": {},
     "output_type": "display_data"
    },
    {
     "data": {
      "text/plain": [
       "6.84130004538055"
      ]
     },
     "execution_count": 5,
     "metadata": {},
     "output_type": "execute_result"
    }
   ],
   "source": [
    "merged = [y for x in data for y in x]\n",
    "plt.hist(merged)\n",
    "plt.show()\n",
    "np.mean(merged)"
   ]
  },
  {
   "cell_type": "code",
   "execution_count": null,
   "metadata": {
    "collapsed": true
   },
   "outputs": [],
   "source": []
  }
 ],
 "metadata": {
  "kernelspec": {
   "display_name": "Python 3",
   "language": "python",
   "name": "python3"
  },
  "language_info": {
   "codemirror_mode": {
    "name": "ipython",
    "version": 3
   },
   "file_extension": ".py",
   "mimetype": "text/x-python",
   "name": "python",
   "nbconvert_exporter": "python",
   "pygments_lexer": "ipython3",
   "version": "3.6.0"
  }
 },
 "nbformat": 4,
 "nbformat_minor": 2
}
